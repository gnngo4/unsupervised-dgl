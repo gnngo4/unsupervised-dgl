{
 "cells": [
  {
   "cell_type": "code",
   "execution_count": null,
   "metadata": {},
   "outputs": [],
   "source": [
    "import torch\n",
    "import torch.nn as nn\n",
    "import torch.nn.functional as F\n",
    "import dgl.function as fn\n",
    "\n",
    "import dgl\n",
    "from dgl import DGLGraph\n",
    "import networkx as nx\n",
    "import matplotlib.pyplot as plt\n",
    "import os\n",
    "import time\n",
    "import numpy as np\n",
    "from sklearn.manifold import TSNE"
   ]
  },
  {
   "cell_type": "code",
   "execution_count": null,
   "metadata": {},
   "outputs": [],
   "source": [
    "from dgl.data import citation_graph as citegrh\n",
    "\n",
    "# load dataset, can specify 'cora','citeseer','pubmed'\n",
    "dataset = 'pubmed'\n",
    "if dataset == 'cora':\n",
    "    data = citegrh.load_cora()\n",
    "if dataset == 'citeseer':\n",
    "    data = citegrh.load_citeseer()\n",
    "if dataset == 'pubmed':\n",
    "    data = citegrh.load_pubmed()\n",
    "    \n",
    "features = torch.FloatTensor(data.features)\n",
    "labels = torch.LongTensor(data.labels)\n",
    "if hasattr(torch, 'BoolTensor'):\n",
    "    train_mask = torch.BoolTensor(data.train_mask)\n",
    "    val_mask = torch.BoolTensor(data.val_mask)\n",
    "    test_mask = torch.BoolTensor(data.test_mask)\n",
    "else:\n",
    "    train_mask = torch.ByteTensor(data.train_mask)\n",
    "    val_mask = torch.ByteTensor(data.val_mask)\n",
    "    test_mask = torch.ByteTensor(data.test_mask)\n",
    "in_feats = features.shape[1]\n",
    "n_classes = data.num_labels\n",
    "n_edges = data.graph.number_of_edges()\n",
    "\n",
    "# graph preprocess\n",
    "g = data.graph\n",
    "# add self loop\n",
    "self_loop = True\n",
    "if self_loop:\n",
    "    g.remove_edges_from(nx.selfloop_edges(g))\n",
    "    g.add_edges_from(zip(g.nodes(),g.nodes()))\n",
    "g = DGLGraph(g)\n",
    "n_edges = g.number_of_edges()"
   ]
  },
  {
   "cell_type": "markdown",
   "metadata": {},
   "source": [
    "Visualize sample citation network (PUBMED)"
   ]
  },
  {
   "cell_type": "code",
   "execution_count": null,
   "metadata": {},
   "outputs": [],
   "source": [
    "\n",
    "'''\n",
    "nx_g = data.graph\n",
    "fig = plt.figure(figsize=(10,10))\n",
    "pos = nx.kamada_kawai_layout(nx_g)\n",
    "nx.draw(nx_g, pos, node_size=60, node_color=labels, width=.5, edge_color='grey',alpha=.8)\n",
    "'''"
   ]
  },
  {
   "cell_type": "markdown",
   "metadata": {},
   "source": [
    "Visualize t-SNE of citation network features"
   ]
  },
  {
   "cell_type": "code",
   "execution_count": null,
   "metadata": {},
   "outputs": [],
   "source": [
    "tsne = TSNE(n_components=2, perplexity=50, n_iter=500)\n",
    "tsne_results = tsne.fit_transform(features)\n",
    "x = tsne_results[:,0]\n",
    "y = tsne_results[:,1]\n",
    "fig = plt.figure(figsize=(10,10))\n",
    "plt.scatter(x,y,c=labels,alpha=1)"
   ]
  },
  {
   "cell_type": "markdown",
   "metadata": {},
   "source": [
    "Model demos"
   ]
  },
  {
   "cell_type": "code",
   "execution_count": null,
   "metadata": {},
   "outputs": [],
   "source": [
    "from utils import process_models as process\n",
    "from unsupervised_models.gae import GAE\n",
    "from unsupervised_models.vgae import VGAE\n",
    "from unsupervised_models.dgi import DGI"
   ]
  },
  {
   "cell_type": "markdown",
   "metadata": {},
   "source": [
    "Graph Autoencoder"
   ]
  },
  {
   "cell_type": "code",
   "execution_count": null,
   "metadata": {
    "scrolled": false
   },
   "outputs": [],
   "source": [
    "dropout = .4\n",
    "hidden_dims = [256,256]\n",
    "activation = nn.PReLU(hidden_dims[-1])\n",
    "n_epochs=400\n",
    "patience=40\n",
    "\n",
    "hyperparameters = {}\n",
    "hyperparameters['lr'] = .01\n",
    "hyperparameters['weight_decay'] = 0.\n",
    "hyperparameters['neg_sample_size'] = 1\n",
    "\n",
    "# Train model\n",
    "gae = GAE(g,in_feats,hidden_dims,activation=activation,dropout=dropout)\n",
    "process.train_model(gae,features,hyperparameters,'pubmed_gae', \\\n",
    "                    n_epochs=n_epochs,patience=patience, \\\n",
    "                    saved_dir='saved_models',verbose=False)\n",
    "\n",
    "# Load model\n",
    "gae.load_state_dict(torch.load(os.path.join('saved_models', \\\n",
    "                                            'pubmed_gae.pkl')))\n",
    "\n",
    "# Embed nodes with model\n",
    "tsne = TSNE(n_components=2, perplexity=50, n_iter=500)\n",
    "embeds = gae.encoder(features)\n",
    "embeds = embeds.detach()\n",
    "\n",
    "# Visualize\n",
    "tsne = TSNE(n_components=2, perplexity=50, n_iter=500)\n",
    "tsne_results = tsne.fit_transform(embeds)\n",
    "x = tsne_results[:,0]\n",
    "y = tsne_results[:,1]\n",
    "fig = plt.figure(figsize=(10,10))\n",
    "plt.scatter(x,y,c=labels,alpha=1.)"
   ]
  },
  {
   "cell_type": "markdown",
   "metadata": {},
   "source": [
    "Normal Variational Graph Autoencoder"
   ]
  },
  {
   "cell_type": "code",
   "execution_count": null,
   "metadata": {
    "scrolled": false
   },
   "outputs": [],
   "source": [
    "dropout = .4\n",
    "hidden_dims = [256,256]\n",
    "activation = nn.PReLU(hidden_dims[-1])\n",
    "n_epochs=400\n",
    "patience=40\n",
    "\n",
    "hyperparameters = {}\n",
    "hyperparameters['lr'] = .01\n",
    "hyperparameters['weight_decay'] = 0.\n",
    "hyperparameters['neg_sample_size'] = 1\n",
    "hyperparameters['KL_weight'] = 1.\n",
    "\n",
    "# Train model\n",
    "nvgae = VGAE(g,in_feats,hidden_dims,activation=activation,dropout=dropout,distribution='normal')\n",
    "process.train_model(nvgae,features,hyperparameters,'pubmed_nvgae', \\\n",
    "                    n_epochs=n_epochs,patience=patience, \\\n",
    "                    saved_dir='saved_models',verbose=False)\n",
    "\n",
    "# Load model\n",
    "nvgae.load_state_dict(torch.load(os.path.join('saved_models', \\\n",
    "                                            'pubmed_nvgae.pkl')))\n",
    "\n",
    "# Embed nodes with model\n",
    "tsne = TSNE(n_components=2, perplexity=50, n_iter=500)\n",
    "embeds = nvgae.encoder(features)\n",
    "(embeds, embeds_var) = nvgae.encoder(features)\n",
    "embeds = embeds.detach()\n",
    "\n",
    "# Visualize\n",
    "tsne = TSNE(n_components=2, perplexity=50, n_iter=500)\n",
    "tsne_results = tsne.fit_transform(embeds)\n",
    "x = tsne_results[:,0]\n",
    "y = tsne_results[:,1]\n",
    "fig = plt.figure(figsize=(10,10))\n",
    "plt.scatter(x,y,c=labels,alpha=1.)"
   ]
  },
  {
   "cell_type": "markdown",
   "metadata": {},
   "source": [
    "Spherical Variational Graph Autoencoder"
   ]
  },
  {
   "cell_type": "code",
   "execution_count": null,
   "metadata": {
    "scrolled": false
   },
   "outputs": [],
   "source": [
    "dropout = .4\n",
    "svgae_hidden_dims = [512,3]\n",
    "n_epochs=400\n",
    "patience=40\n",
    "\n",
    "hyperparameters = {}\n",
    "hyperparameters['lr'] = .001\n",
    "hyperparameters['weight_decay'] = 0.\n",
    "hyperparameters['neg_sample_size'] = 1\n",
    "hyperparameters['KL_weight'] = 1.\n",
    "\n",
    "# Train model\n",
    "svgae = VGAE(g,in_feats,svgae_hidden_dims,activation=F.relu,dropout=dropout,distribution='hypersphere')\n",
    "process.train_model(svgae,features,hyperparameters,'pubmed_svgae', \\\n",
    "                    n_epochs=n_epochs,patience=patience, \\\n",
    "                    saved_dir='saved_models',verbose=False)\n",
    "\n",
    "# Load model\n",
    "svgae.load_state_dict(torch.load(os.path.join('saved_models', \\\n",
    "                                            'pubmed_svgae.pkl')))\n",
    "\n",
    "# Embed nodes with model\n",
    "tsne = TSNE(n_components=2, perplexity=50, n_iter=500)\n",
    "embeds = nvgae.encoder(features)\n",
    "(embeds, embeds_var) = svgae.encoder(features)\n",
    "embeds = embeds.detach()\n",
    "\n",
    "# Visualize\n",
    "import mpl_toolkits.mplot3d.axes3d as axes3d\n",
    "# let's visualize samples in the sphere\n",
    "\n",
    "theta, phi = np.linspace(0, 2 * np.pi, 20), np.linspace(0, np.pi, 20)\n",
    "THETA, PHI = np.meshgrid(theta, phi)\n",
    "X, Y, Z = np.sin(PHI) * np.cos(THETA), np.sin(PHI) * np.sin(THETA), np.cos(PHI)\n",
    "\n",
    "fig = plt.figure(figsize=(10,10))\n",
    "ax = fig.gca(projection='3d')\n",
    "ax.plot_wireframe(X, Y, Z, linewidth=1, alpha=0.5, color=\"grey\")\n",
    "\n",
    "ax.scatter(embeds[:,0],embeds[:,1],embeds[:,2],c=labels,cmap='jet')"
   ]
  },
  {
   "cell_type": "markdown",
   "metadata": {},
   "source": [
    "Deep Graph Infomax"
   ]
  },
  {
   "cell_type": "code",
   "execution_count": null,
   "metadata": {
    "scrolled": false
   },
   "outputs": [],
   "source": [
    "dropout = .4\n",
    "hidden_dims = [256,256]\n",
    "activation = nn.PReLU(hidden_dims[-1])\n",
    "n_epochs=400\n",
    "patience=40\n",
    "\n",
    "hyperparameters = {}\n",
    "hyperparameters['lr'] = .001\n",
    "hyperparameters['weight_decay'] = 0.\n",
    "\n",
    "# Train model\n",
    "dgi = DGI(g,in_feats,hidden_dims,activation=activation,dropout=dropout)\n",
    "process.train_model(dgi,features,hyperparameters,'pubmed_dgi', \\\n",
    "                    n_epochs=n_epochs,patience=patience, \\\n",
    "                    saved_dir='saved_models',verbose=False)\n",
    "\n",
    "# Load model\n",
    "dgi.load_state_dict(torch.load(os.path.join('saved_models', \\\n",
    "                                            'pubmed_dgi.pkl')))\n",
    "\n",
    "# Embed nodes with model\n",
    "tsne = TSNE(n_components=2, perplexity=50, n_iter=500)\n",
    "embeds = dgi.encoder(features, corrupt=False)\n",
    "embeds = embeds.detach()\n",
    "\n",
    "# Visualize\n",
    "tsne = TSNE(n_components=2, perplexity=50, n_iter=500)\n",
    "tsne_results = tsne.fit_transform(embeds)\n",
    "x = tsne_results[:,0]\n",
    "y = tsne_results[:,1]\n",
    "fig = plt.figure(figsize=(10,10))\n",
    "plt.scatter(x,y,c=labels,alpha=1.)"
   ]
  },
  {
   "cell_type": "code",
   "execution_count": null,
   "metadata": {},
   "outputs": [],
   "source": []
  }
 ],
 "metadata": {
  "kernelspec": {
   "display_name": "Python (dgl)",
   "language": "python",
   "name": "dgl"
  },
  "language_info": {
   "codemirror_mode": {
    "name": "ipython",
    "version": 3
   },
   "file_extension": ".py",
   "mimetype": "text/x-python",
   "name": "python",
   "nbconvert_exporter": "python",
   "pygments_lexer": "ipython3",
   "version": "3.8.2"
  }
 },
 "nbformat": 4,
 "nbformat_minor": 2
}
